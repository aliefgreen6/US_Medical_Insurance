{
 "cells": [
  {
   "cell_type": "markdown",
   "metadata": {},
   "source": [
    "# U.S. Medical Insurance Costs"
   ]
  },
  {
   "cell_type": "code",
   "execution_count": 21,
   "metadata": {},
   "outputs": [],
   "source": [
    "# Import necessary libraries\n",
    "import csv\n",
    "import pandas as pd\n",
    "import numpy as np\n",
    "from scipy.stats import ttest_ind, f_oneway\n",
    "import statsmodels.api as sm\n",
    "import seaborn as sns\n",
    "import matplotlib.pyplot as plt\n",
    "\n",
    "# Load the insurance dataset\n",
    "dataframe = pd.read_csv('insurance.csv')"
   ]
  },
  {
   "cell_type": "markdown",
   "metadata": {},
   "source": [
    "## Compute basic descriptive statistics"
   ]
  },
  {
   "cell_type": "code",
   "execution_count": null,
   "metadata": {},
   "outputs": [],
   "source": [
    "# Compute basic descriptive statistics\n",
    "descriptives = dataframe.describe()\n",
    "\n",
    "# Calculate mode for categorical variables\n",
    "mode = dataframe.mode().iloc[0]\n",
    "\n",
    "# Display descriptive statistics and mode\n",
    "print(\"Descriptive Statistics:\")\n",
    "print(descriptives)\n",
    "print(\"\\nMode:\")\n",
    "print(mode)\n",
    "\n",
    "# Average charges by different categories\n",
    "avg_charges_by_smoker = dataframe.groupby('smoker')['charges'].mean()\n",
    "avg_charges_by_bmi = dataframe.groupby('bmi')['charges'].mean()\n",
    "avg_charges_by_children = dataframe.groupby('children')['charges'].mean()\n",
    "avg_charges_by_region = dataframe.groupby('region')['charges'].mean()\n",
    "avg_charges_by_sex = dataframe.groupby('sex')['charges'].mean()\n",
    "\n",
    "print(\"\\nAverage Charges by Smoker Status:\")\n",
    "print(avg_charges_by_smoker)\n",
    "\n",
    "print(\"\\nAverage Charges by BMI Bracket:\")\n",
    "print(avg_charges_by_bmi)\n",
    "\n",
    "print(\"\\nAverage Charges by Number of Children:\")\n",
    "print(avg_charges_by_children)\n",
    "\n",
    "print(\"\\nAverage Charges by Region:\")\n",
    "print(avg_charges_by_region)\n",
    "\n",
    "print(\"\\nAverage Charges by Sex:\")\n",
    "print(avg_charges_by_sex)"
   ]
  },
  {
   "cell_type": "markdown",
   "metadata": {},
   "source": [
    "## Create visualizations: histograms, box plots, and scatter plots"
   ]
  },
  {
   "cell_type": "code",
   "execution_count": null,
   "metadata": {},
   "outputs": [],
   "source": [
    "# Create visualizations: histograms, box plots, and scatter plots\n",
    "\n",
    "# Histogram of charges\n",
    "plt.figure(figsize=(8, 6))\n",
    "sns.histplot(dataframe['charges'], bins=30, kde=True)\n",
    "plt.title('Distribution of Medical Charges')\n",
    "plt.xlabel('Charges')\n",
    "plt.ylabel('Frequency')\n",
    "plt.show()\n",
    "\n",
    "# Box plot of charges by smoker status\n",
    "plt.figure(figsize=(8, 6))\n",
    "sns.boxplot(x='smoker', y='charges', data=dataframe)\n",
    "plt.title('Box Plot of Charges by Smoker Status')\n",
    "plt.xlabel('Smoker')\n",
    "plt.ylabel('Charges')\n",
    "plt.show()"
   ]
  },
  {
   "cell_type": "markdown",
   "metadata": {},
   "source": [
    "## Implement functionality to calculate confidence intervals for sample means"
   ]
  },
  {
   "cell_type": "code",
   "execution_count": null,
   "metadata": {},
   "outputs": [],
   "source": [
    "# Implement functionality to calculate confidence intervals for sample means\n",
    "\n",
    "def calculate_confidence_interval(data, confidence=0.95):\n",
    "    \"\"\"\n",
    "    Calculate confidence interval for sample mean.\n",
    "    \n",
    "    Parameters:\n",
    "        data (array-like): The data from which to calculate the confidence interval.\n",
    "        confidence (float): The level of confidence for the interval, default is 0.95.\n",
    "    \n",
    "    Returns:\n",
    "        tuple: The confidence interval for the sample mean.\n",
    "    \"\"\"\n",
    "    n = len(data)\n",
    "    mean = np.mean(data)\n",
    "    std_err = np.std(data, ddof=1) / np.sqrt(n)  # ddof=1 for sample standard deviation\n",
    "    margin_of_error = std_err * stats.t.ppf((1 + confidence) / 2, n - 1)\n",
    "    return mean - margin_of_error, mean + margin_of_error\n",
    "\n",
    "# Example of calculating confidence interval for charges\n",
    "charges = dataframe['charges']\n",
    "confidence_interval = calculate_confidence_interval(charges)\n",
    "print(\"\\nConfidence Interval for Charges (95%):\", confidence_interval)"
   ]
  },
  {
   "cell_type": "markdown",
   "metadata": {},
   "source": [
    "## Perform inferential statistics for group comparisons"
   ]
  },
  {
   "cell_type": "markdown",
   "metadata": {},
   "source": [
    "### T-test: Comparing charges between smokers and non-smokers"
   ]
  },
  {
   "cell_type": "code",
   "execution_count": null,
   "metadata": {},
   "outputs": [],
   "source": [
    "# Perform inferential statistics for group comparisons\n",
    "\n",
    "# T-test: Comparing charges between smokers and non-smokers\n",
    "smoker_charges = dataframe[dataframe['smoker'] == 'yes']['charges']\n",
    "non_smoker_charges = dataframe[dataframe['smoker'] == 'no']['charges']\n",
    "\n",
    "t_stat, p_value = ttest_ind(smoker_charges, non_smoker_charges)\n",
    "print(f'\\nT-test: t-statistic = {t_stat}, p-value = {p_value}')"
   ]
  },
  {
   "cell_type": "code",
   "execution_count": null,
   "metadata": {},
   "outputs": [],
   "source": [
    "# Visualize t-test results\n",
    "plt.figure(figsize=(8, 6))\n",
    "sns.barplot(x=['Smoker', 'Non-Smoker'], y=[np.mean(smoker_charges), np.mean(non_smoker_charges)])\n",
    "plt.title('Average Charges: Smoker vs Non-Smoker')\n",
    "plt.ylabel('Average Charges')\n",
    "plt.show()"
   ]
  },
  {
   "cell_type": "markdown",
   "metadata": {},
   "source": [
    "### ANOVA: Comparing charges across regions"
   ]
  },
  {
   "cell_type": "code",
   "execution_count": 16,
   "metadata": {},
   "outputs": [
    {
     "name": "stdout",
     "output_type": "stream",
     "text": [
      "ANOVA: F-statistic = 2.96962669358912, p-value = 0.0308933560705201\n"
     ]
    }
   ],
   "source": [
    "# ANOVA: Comparing charges across regions\n",
    "f_stat, p_value_anova = f_oneway(dataframe['charges'][dataframe['region'] == 'southwest'],\n",
    "                                  dataframe['charges'][dataframe['region'] == 'southeast'],\n",
    "                                  dataframe['charges'][dataframe['region'] == 'northwest'],\n",
    "                                  dataframe['charges'][dataframe['region'] == 'northeast'])\n",
    "print(f'ANOVA: F-statistic = {f_stat}, p-value = {p_value_anova}')"
   ]
  },
  {
   "cell_type": "code",
   "execution_count": null,
   "metadata": {},
   "outputs": [],
   "source": [
    "# Visualize ANOVA results\n",
    "plt.figure(figsize=(8, 6))\n",
    "sns.boxplot(x='region', y='charges', data=dataframe)\n",
    "plt.title('Charges by Region')\n",
    "plt.ylabel('Charges')\n",
    "plt.xlabel('Region')\n",
    "plt.show()"
   ]
  },
  {
   "cell_type": "markdown",
   "metadata": {},
   "source": [
    "### Linear regression with age, BMI, children, and smoking status predicting medical charges"
   ]
  },
  {
   "cell_type": "code",
   "execution_count": 20,
   "metadata": {},
   "outputs": [],
   "source": [
    "# Regression Analysis\n",
    "# Linear regression with age, BMI, children, and smoking status predicting medical charges\n",
    "\n",
    "# Define predictors and target variable\n",
    "X = dataframe[['age', 'bmi', 'children', 'smoker']]\n",
    "y = dataframe['charges']\n",
    "\n",
    "# Add constant to predictor variables\n",
    "X = sm.add_constant(X)\n",
    "\n",
    "# Fit the linear regression model\n",
    "model = sm.OLS(y, X).fit()\n",
    "\n",
    "# Print model summary\n",
    "print(\"\\nRegression Analysis Summary:\")\n",
    "print(model.summary())"
   ]
  },
  {
   "cell_type": "code",
   "execution_count": null,
   "metadata": {},
   "outputs": [],
   "source": [
    "# Scatter plot of actual charges vs. predicted charges\n",
    "plt.figure(figsize=(8, 6))\n",
    "plt.scatter(model.predict(), y, alpha=0.5)\n",
    "plt.title('Actual Charges vs. Predicted Charges (Regression Model)')\n",
    "plt.xlabel('Predicted Charges')\n",
    "plt.ylabel('Actual Charges')\n",
    "plt.show()\n",
    "\n",
    "# Plot residuals\n",
    "residuals = model.resid\n",
    "plt.figure(figsize=(8, 6))\n",
    "plt.scatter(model.predict(), residuals, alpha=0.5)\n",
    "plt.title('Residuals vs. Predicted Charges (Regression Model)')\n",
    "plt.xlabel('Predicted Charges')\n",
    "plt.ylabel('Residuals')\n",
    "plt.axhline(y=0, color='r', linestyle='--')\n",
    "plt.show()"
   ]
  },
  {
   "cell_type": "markdown",
   "metadata": {},
   "source": [
    "# Code Explanation"
   ]
  },
  {
   "cell_type": "code",
   "execution_count": null,
   "metadata": {},
   "outputs": [],
   "source": [
    "# Provide explanations\n",
    "print(\"\\n---------------------------------------------\")\n",
    "print(\"Explanation:\")\n",
    "print(\"- Descriptive statistics, including mean, median, quartiles, standard deviation, and count, provide a summary of the distribution of each numerical variable in the dataset.\")\n",
    "print(\"- Mode represents the most frequent value in each column.\")\n",
    "print(\"- Visualizations such as histograms and box plots help visualize the distribution and identify potential outliers.\")\n",
    "print(\"- Confidence intervals for sample means provide an estimate of the range in which the population mean is likely to fall, given a certain level of confidence.\")\n",
    "print(\"- T-tests and ANOVA are used for group comparisons, assessing differences in charges based on different categorical variables.\")\n",
    "print(\"- Regression analysis allows us to understand the relationship between predictors (age, BMI, children, smoker status) and the target variable (charges), and to make predictions based on these relationships.\")\n",
    "print(\"---------------------------------------------\")"
   ]
  }
 ],
 "metadata": {
  "kernelspec": {
   "display_name": "Python 3 (ipykernel)",
   "language": "python",
   "name": "python3"
  },
  "language_info": {
   "codemirror_mode": {
    "name": "ipython",
    "version": 3
   },
   "file_extension": ".py",
   "mimetype": "text/x-python",
   "name": "python",
   "nbconvert_exporter": "python",
   "pygments_lexer": "ipython3",
   "version": "3.12.2"
  }
 },
 "nbformat": 4,
 "nbformat_minor": 4
}
